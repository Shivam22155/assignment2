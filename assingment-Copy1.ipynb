{
 "cells": [
  {
   "cell_type": "code",
   "execution_count": 1,
   "id": "1d584f55-6f71-4e68-8951-09578098240e",
   "metadata": {},
   "outputs": [],
   "source": [
    "#singlr linr commrnt"
   ]
  },
  {
   "cell_type": "code",
   "execution_count": 5,
   "id": "3553fa34-e70d-4d09-9d90-00992e1c5251",
   "metadata": {},
   "outputs": [
    {
     "data": {
      "text/plain": [
       "' \\ndouble line comment.\\n multi-line comments are technically not comments in the strictest sense, they are commonly used for documentation purposes and are treated similarly to comments by Python programmers.\\n'"
      ]
     },
     "execution_count": 5,
     "metadata": {},
     "output_type": "execute_result"
    }
   ],
   "source": [
    "\"\"\" \n",
    "double line comment.\n",
    " multi-line comments are technically not comments in the strictest sense, they are commonly used for documentation purposes and are treated similarly to comments by Python programmers.\n",
    "\"\"\""
   ]
  },
  {
   "cell_type": "code",
   "execution_count": 6,
   "id": "c9bc4f99-33e3-44f4-9425-f2889e1685f0",
   "metadata": {},
   "outputs": [],
   "source": [
    "#variables are used to store data values. Variables act as containers that hold data which can be manipulated and referenced throughout the program."
   ]
  },
  {
   "cell_type": "code",
   "execution_count": 7,
   "id": "a2b571c8-58e5-463b-85d5-f74f379e191d",
   "metadata": {},
   "outputs": [
    {
     "ename": "NameError",
     "evalue": "name 'value' is not defined",
     "output_type": "error",
     "traceback": [
      "\u001b[0;31m---------------------------------------------------------------------------\u001b[0m",
      "\u001b[0;31mNameError\u001b[0m                                 Traceback (most recent call last)",
      "Cell \u001b[0;32mIn[7], line 2\u001b[0m\n\u001b[1;32m      1\u001b[0m \u001b[38;5;66;03m# Variable declaration and assignment\u001b[39;00m\n\u001b[0;32m----> 2\u001b[0m variable_name \u001b[38;5;241m=\u001b[39m \u001b[43mvalue\u001b[49m\n\u001b[1;32m      4\u001b[0m \u001b[38;5;66;03m# Examples\u001b[39;00m\n\u001b[1;32m      5\u001b[0m x \u001b[38;5;241m=\u001b[39m \u001b[38;5;241m5\u001b[39m                 \u001b[38;5;66;03m# x is a variable holding an integer value\u001b[39;00m\n",
      "\u001b[0;31mNameError\u001b[0m: name 'value' is not defined"
     ]
    }
   ],
   "source": [
    "# Variable declaration and assignment\n",
    "variable_name = value\n",
    "\n",
    "# Examples\n",
    "x = 5                 # x is a variable holding an integer value\n",
    "name = \"John\"         # name is a variable holding a string value\n",
    "pi = 3.14             # pi is a variable holding a float value\n",
    "is_python_fun = True  # is_python_fun is a variable holding a boolean value"
   ]
  },
  {
   "cell_type": "code",
   "execution_count": null,
   "id": "cc7b104d-3568-4ad5-9f58-2a87495eb67a",
   "metadata": {},
   "outputs": [],
   "source": [
    "#you can convert one data type to another using built-in functions or constructors. Here are some common ways to perform type conversion:\n",
    "\n",
    "Using built-in functions:\n",
    "int(): Converts a value to an integer.\n",
    "float(): Converts a value to a floating-point number.\n",
    "str(): Converts a value to a string.\n",
    "bool(): Converts a value to a boolean."
   ]
  },
  {
   "cell_type": "code",
   "execution_count": null,
   "id": "f64c5315-2a65-4f00-8557-0c14b4c69886",
   "metadata": {},
   "outputs": [],
   "source": [
    "#x = 10\n",
    "y = float(x)   # Converts integer to float\n",
    "z = str(x)     # Converts integer to string\n",
    "w = bool(x)    # Converts integer to boolean "
   ]
  },
  {
   "cell_type": "code",
   "execution_count": null,
   "id": "364b52ba-021d-4a57-ae0e-418f63064951",
   "metadata": {},
   "outputs": [],
   "source": [
    "#Using a text editor or an Integrated Development Environment (IDE), write your Python script and save it with a .py extension. For example, you can create a file named myscript.py"
   ]
  },
  {
   "cell_type": "code",
   "execution_count": null,
   "id": "e2980c2f-d050-499b-8d9a-d9c5cda546db",
   "metadata": {},
   "outputs": [],
   "source": [
    "     my_list = [1, 2, 3, 4, 5]\n",
    "\n",
    "# Slice the list to obtain the sub-list [2, 3]\n",
    "sub_list = my_list[1:3]\n",
    "\n",
    "print(sub_list)  # Output: [2, 3]"
   ]
  },
  {
   "cell_type": "code",
   "execution_count": null,
   "id": "38cc8b2b-755c-45b2-8f1b-48cb42cc1478",
   "metadata": {},
   "outputs": [],
   "source": [
    "#In mathematics, a complex number is a number that can be expressed in the form a + bi"
   ]
  },
  {
   "cell_type": "code",
   "execution_count": null,
   "id": "db409b18-e8a4-425b-9bc8-7ac999eee927",
   "metadata": {},
   "outputs": [],
   "source": [
    "# Using parentheses and a comma to specify real and imaginary parts\n",
    "z1 = complex(3, 4)  # 3 + 4i\n",
    "\n",
    "# Using the j suffix to denote the imaginary part\n",
    "z2 = 2 + 5j  # 2 + 5i\n",
    "\n",
    "# Complex number with zero real part\n",
    "z3 = 0 + 2j  # 2i"
   ]
  },
  {
   "cell_type": "code",
   "execution_count": null,
   "id": "aff5b272-de37-4d1f-b2de-6a1662485a17",
   "metadata": {},
   "outputs": [],
   "source": [
    "age = 25"
   ]
  },
  {
   "cell_type": "code",
   "execution_count": null,
   "id": "ae25a492-e6f9-4821-a47b-918cc039e7d8",
   "metadata": {},
   "outputs": [],
   "source": [
    "\n",
    "price = 9.99\n",
    "#The variable price belongs to the data type float."
   ]
  },
  {
   "cell_type": "code",
   "execution_count": null,
   "id": "1f12b607-e824-41e9-91d2-44e5f256f5a1",
   "metadata": {},
   "outputs": [],
   "source": [
    "name = \"SHIVAM KUMAR\"\n",
    "Print(name)"
   ]
  },
  {
   "cell_type": "code",
   "execution_count": null,
   "id": "dd168b68-cd30-42a8-809e-d55520decd78",
   "metadata": {},
   "outputs": [],
   "source": [
    "# Given string\n",
    "string = \"Hello, World!\"\n",
    "\n",
    "# Extracting the substring \"World\"\n",
    "substring = string[7:12]\n",
    "\n",
    "# Print the extracted substring\n",
    "print(substring)"
   ]
  },
  {
   "cell_type": "code",
   "execution_count": null,
   "id": "1abd0793-a8fb-4a10-ac1f-aa5a1c6c2e60",
   "metadata": {},
   "outputs": [],
   "source": [
    "is_student = True"
   ]
  },
  {
   "cell_type": "code",
   "execution_count": null,
   "id": "c10673a0-bb95-4a1e-8b10-e2f75e52cf7e",
   "metadata": {},
   "outputs": [],
   "source": []
  }
 ],
 "metadata": {
  "kernelspec": {
   "display_name": "Python 3 (ipykernel)",
   "language": "python",
   "name": "python3"
  },
  "language_info": {
   "codemirror_mode": {
    "name": "ipython",
    "version": 3
   },
   "file_extension": ".py",
   "mimetype": "text/x-python",
   "name": "python",
   "nbconvert_exporter": "python",
   "pygments_lexer": "ipython3",
   "version": "3.10.8"
  }
 },
 "nbformat": 4,
 "nbformat_minor": 5
}
